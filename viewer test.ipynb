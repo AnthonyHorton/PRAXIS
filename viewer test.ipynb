{
 "cells": [
  {
   "cell_type": "code",
   "execution_count": 1,
   "metadata": {
    "collapsed": true
   },
   "outputs": [],
   "source": [
    "import pylab as plt\n",
    "import numpy as np\n",
    "from matplotlib.patches import RegularPolygon"
   ]
  },
  {
   "cell_type": "code",
   "execution_count": null,
   "metadata": {
    "collapsed": true
   },
   "outputs": [],
   "source": [
    "\n",
    "#hexArray[idx] = [centreX,centreY,flatRad,flux]\n",
    "#fibre number = idx+1\n",
    "hexArray = np.array([[]])\n",
    "hexArray[0] = [0,0,0.055,0]\n",
    "hexArray[0] = [0,0,0.055,0]\n",
    "hexArray[0] = [0,0,0.055,0]\n",
    "hexArray[0] = [0,0,0.055,0]\n",
    "hexArray[0] = [0,0,0.055,0]\n",
    "hexArray[0] = [0,0,0.055,0]\n",
    "hexArray[0] = [0,0,0.055,0]\n",
    "hexArray[0] = [0,0,0.055,0]\n",
    "hexArray[0] = [0,0,0.055,0]\n",
    "hexArray[0] = [0,0,0.055,0]\n",
    "hexArray[0] = [0,0,0.055,0]\n",
    "hexArray[0] = [0,0,0.055,0]\n",
    "hexArray[0] = [0,0,0.055,0]\n",
    "hexArray[0] = [0,0,0.055,0]\n",
    "hexArray[0] = [0,0,0.055,0]\n",
    "hexArray[0] = [0,0,0.055,0]\n",
    "hexArray[0] = [0,0,0.055,0]\n",
    "hexArray[0] = [0,0,0.055,0]\n",
    "hexArray[0] = [0,0,0.055,0]\n"
   ]
  },
  {
   "cell_type": "code",
   "execution_count": 35,
   "metadata": {
    "collapsed": false
   },
   "outputs": [
    {
     "name": "stderr",
     "output_type": "stream",
     "text": [
      "ERROR:root:Line magic function `%qt` not found.\n"
     ]
    }
   ],
   "source": [
    "%"
   ]
  },
  {
   "cell_type": "code",
   "execution_count": 20,
   "metadata": {
    "collapsed": false
   },
   "outputs": [
    {
     "data": {
      "image/png": "[encoded data removed]",
      "text/plain": [
       "<matplotlib.figure.Figure at 0x107ba48d0>"
      ]
     },
     "metadata": {},
     "output_type": "display_data"
    }
   ],
   "source": [
    "fig, ax = plt.subplots(1)\n",
    "ax.set_aspect('equal')\n",
    "\n",
    "for x, y, c, l in zip([0,0], [0,1], ['0.0','1.0'], ['red','blue']):\n",
    "#     color = c[0]  # matplotlib understands lower case words for colours\n",
    "    hex = RegularPolygon((x, y), numVertices=6, radius=2. / 3., \n",
    "                         orientation=np.radians(30), \n",
    "                         facecolor=c,  edgecolor='k')\n",
    "    ax.add_patch(hex)\n",
    "    # Also add a text label\n",
    "    ax.text(x, y+0.2, l[0], ha='center', va='center', size=20)\n",
    "plt.show()"
   ]
  },
  {
   "cell_type": "code",
   "execution_count": 18,
   "metadata": {
    "collapsed": false
   },
   "outputs": [
    {
     "data": {
      "image/png": "[encoded data removed]",
      "text/plain": [
       "<matplotlib.figure.Figure at 0x10664b850>"
      ]
     },
     "metadata": {},
     "output_type": "display_data"
    }
   ],
   "source": [
    "import numpy as np\n",
    "import matplotlib.pyplot as plt\n",
    "\n",
    "np.random.seed(0)\n",
    "n = 100\n",
    "x = np.random.standard_normal(n)\n",
    "y = np.random.standard_normal(n)\n",
    "xmin = x.min()\n",
    "xmax = x.max()\n",
    "ymin = y.min()\n",
    "ymax = y.max()\n",
    "\n",
    "fig, ax = plt.subplots()\n",
    "# fig.subplots_adjust(hspace=0.5, left=0.07, right=0.93)\n",
    "hb = ax.hexbin(x, y, gridsize=500, cmap='inferno')\n",
    "ax.axis([xmin, xmax, ymin, ymax])\n",
    "ax.set_title(\"Hexagon binning\")\n",
    "# cb = fig.colorbar(hb, ax=ax)\n",
    "# cb.set_label('counts')\n",
    "\n",
    "\n",
    "plt.show()\n"
   ]
  },
  {
   "cell_type": "code",
   "execution_count": 43,
   "metadata": {
    "collapsed": false
   },
   "outputs": [
    {
     "data": {
      "text/plain": [
       "array([ 1.76405235,  0.40015721,  0.97873798, ...,  0.72618198,\n",
       "       -1.16783052, -1.28520765])"
      ]
     },
     "execution_count": 43,
     "metadata": {},
     "output_type": "execute_result"
    }
   ],
   "source": [
    "x"
   ]
  },
  {
   "cell_type": "code",
   "execution_count": 44,
   "metadata": {
    "collapsed": false
   },
   "outputs": [
    {
     "data": {
      "text/plain": [
       "(100000,)"
      ]
     },
     "execution_count": 44,
     "metadata": {},
     "output_type": "execute_result"
    }
   ],
   "source": [
    "x.shape\n"
   ]
  },
  {
   "cell_type": "code",
   "execution_count": 47,
   "metadata": {
    "collapsed": false
   },
   "outputs": [
    {
     "data": {
      "image/png": "[encoded data removed]",
      "text/plain": [
       "<matplotlib.figure.Figure at 0x1084b7210>"
      ]
     },
     "metadata": {},
     "output_type": "display_data"
    }
   ],
   "source": [
    "plt.plot(y)\n",
    "\n",
    "plt.show()"
   ]
  },
  {
   "cell_type": "code",
   "execution_count": null,
   "metadata": {
    "collapsed": true
   },
   "outputs": [],
   "source": []
  }
 ],
 "metadata": {
  "kernelspec": {
   "display_name": "Python 2",
   "language": "python",
   "name": "python2"
  },
  "language_info": {
   "codemirror_mode": {
    "name": "ipython",
    "version": 2
   },
   "file_extension": ".py",
   "mimetype": "text/x-python",
   "name": "python",
   "nbconvert_exporter": "python",
   "pygments_lexer": "ipython2",
   "version": "2.7.11"
  }
 },
 "nbformat": 4,
 "nbformat_minor": 2
}
